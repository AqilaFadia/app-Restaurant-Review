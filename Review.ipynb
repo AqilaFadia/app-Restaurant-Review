{
 "cells": [
  {
   "cell_type": "markdown",
   "metadata": {},
   "source": [
    "# Import Libaray"
   ]
  },
  {
   "cell_type": "code",
   "execution_count": 1,
   "metadata": {},
   "outputs": [],
   "source": [
    "import pandas as pd\n",
    "import tensorflow as tf\n",
    "from sklearn.model_selection import train_test_split\n",
    "from tensorflow.keras.preprocessing.text import Tokenizer\n",
    "from tensorflow.keras.preprocessing.sequence import pad_sequences\n",
    "from tensorflow.keras.layers import Embedding, GlobalAveragePooling1D, Dense\n",
    "import matplotlib.pyplot as plt\n",
    "import numpy as np\n",
    "import nltk\n",
    "from nltk.corpus import stopwords\n",
    "import json"
   ]
  },
  {
   "cell_type": "code",
   "execution_count": 2,
   "metadata": {},
   "outputs": [],
   "source": [
    "df = pd.read_csv('yelp_labelled.txt', names=['sentence', 'label'], sep='\\t')"
   ]
  },
  {
   "cell_type": "code",
   "execution_count": 3,
   "metadata": {},
   "outputs": [],
   "source": [
    "# Convert all text into lowercase form\n",
    "df['sentence'] = df['sentence'].str.lower()\n",
    " \n",
    "# Removing stopwords\n",
    "stop_word = set(stopwords.words('english'))\n",
    " \n",
    "df['sentence'] = df['sentence'].apply(lambda x:' '.join([word for word in x.split() if word not in (stop_word)]))\n",
    " \n",
    "# Split the dataset\n",
    "sentence = df['sentence'].values\n",
    "label = df['label'].values\n",
    " \n",
    "sentence_train, sentence_test, label_train, label_test = train_test_split(sentence, label, test_size=0.2, shuffle=False)\n",
    " \n",
    "# Tokenizing\n",
    "filt = '!\"#$%&()*+.,-/:;=?@[\\]^_`{|}~ ' # Filter to remove symbols\n",
    " \n",
    "tokenizer = Tokenizer(num_words=2000, oov_token=\"<OOV>\", filters=filt)\n",
    " \n",
    "tokenizer.fit_on_texts(sentence_train)\n",
    " \n",
    "# Save the word_index into a json file\n",
    "word_index = tokenizer.word_index\n",
    " \n",
    "with open('word_index.json', 'w') as fp:\n",
    "    json.dump(word_index, fp)\n",
    " \n",
    "# Creating sequences and padding\n",
    "train_sekuens = tokenizer.texts_to_sequences(sentence_train)\n",
    "test_sekuens = tokenizer.texts_to_sequences(sentence_test)\n",
    " \n",
    "train_padded = pad_sequences(train_sekuens,\n",
    "                             maxlen=20,\n",
    "                             padding='post',\n",
    "                             truncating='post')\n",
    "test_padded = pad_sequences(test_sekuens,\n",
    "                            maxlen=20,\n",
    "                            padding='post',\n",
    "                            truncating='post')"
   ]
  },
  {
   "cell_type": "code",
   "execution_count": 4,
   "metadata": {},
   "outputs": [
    {
     "name": "stdout",
     "output_type": "stream",
     "text": [
      "Epoch 1/30\n",
      "25/25 [==============================] - 1s 9ms/step - loss: 0.6885 - accuracy: 0.5650 - val_loss: 0.7318 - val_accuracy: 0.2400\n",
      "Epoch 2/30\n",
      "25/25 [==============================] - 0s 2ms/step - loss: 0.6824 - accuracy: 0.5650 - val_loss: 0.7686 - val_accuracy: 0.2400\n",
      "Epoch 3/30\n",
      "25/25 [==============================] - 0s 2ms/step - loss: 0.6758 - accuracy: 0.5650 - val_loss: 0.7767 - val_accuracy: 0.2400\n",
      "Epoch 4/30\n",
      "25/25 [==============================] - 0s 2ms/step - loss: 0.6615 - accuracy: 0.5725 - val_loss: 0.7691 - val_accuracy: 0.2450\n",
      "Epoch 5/30\n",
      "25/25 [==============================] - 0s 2ms/step - loss: 0.6214 - accuracy: 0.6600 - val_loss: 0.7641 - val_accuracy: 0.2800\n",
      "Epoch 6/30\n",
      "25/25 [==============================] - 0s 2ms/step - loss: 0.5296 - accuracy: 0.7875 - val_loss: 0.7115 - val_accuracy: 0.4550\n",
      "Epoch 7/30\n",
      "25/25 [==============================] - 0s 2ms/step - loss: 0.3832 - accuracy: 0.8938 - val_loss: 0.6155 - val_accuracy: 0.6500\n",
      "Epoch 8/30\n",
      "25/25 [==============================] - 0s 3ms/step - loss: 0.2374 - accuracy: 0.9388 - val_loss: 0.4987 - val_accuracy: 0.7750\n",
      "Epoch 9/30\n",
      "25/25 [==============================] - 0s 2ms/step - loss: 0.1537 - accuracy: 0.9600 - val_loss: 0.7284 - val_accuracy: 0.6350\n",
      "Epoch 10/30\n",
      "25/25 [==============================] - 0s 2ms/step - loss: 0.1068 - accuracy: 0.9712 - val_loss: 0.5431 - val_accuracy: 0.7750\n",
      "Epoch 11/30\n",
      "25/25 [==============================] - 0s 2ms/step - loss: 0.0903 - accuracy: 0.9737 - val_loss: 0.7564 - val_accuracy: 0.6950\n",
      "Epoch 12/30\n",
      "25/25 [==============================] - 0s 2ms/step - loss: 0.0618 - accuracy: 0.9850 - val_loss: 0.7659 - val_accuracy: 0.7400\n",
      "Epoch 13/30\n",
      "25/25 [==============================] - 0s 2ms/step - loss: 0.0510 - accuracy: 0.9850 - val_loss: 0.6612 - val_accuracy: 0.7750\n",
      "Epoch 14/30\n",
      "25/25 [==============================] - 0s 2ms/step - loss: 0.0434 - accuracy: 0.9900 - val_loss: 0.8231 - val_accuracy: 0.7100\n",
      "Epoch 15/30\n",
      "25/25 [==============================] - 0s 2ms/step - loss: 0.0332 - accuracy: 0.9937 - val_loss: 0.7682 - val_accuracy: 0.7450\n",
      "Epoch 16/30\n",
      "25/25 [==============================] - 0s 2ms/step - loss: 0.0290 - accuracy: 0.9950 - val_loss: 0.8103 - val_accuracy: 0.7300\n",
      "Epoch 17/30\n",
      "25/25 [==============================] - 0s 2ms/step - loss: 0.0251 - accuracy: 0.9950 - val_loss: 0.8308 - val_accuracy: 0.7300\n",
      "Epoch 18/30\n",
      "25/25 [==============================] - 0s 2ms/step - loss: 0.0227 - accuracy: 0.9950 - val_loss: 0.9571 - val_accuracy: 0.7100\n",
      "Epoch 19/30\n",
      "25/25 [==============================] - 0s 2ms/step - loss: 0.0196 - accuracy: 0.9950 - val_loss: 1.0195 - val_accuracy: 0.7050\n",
      "Epoch 20/30\n",
      "25/25 [==============================] - 0s 2ms/step - loss: 0.0185 - accuracy: 0.9962 - val_loss: 1.1195 - val_accuracy: 0.6750\n",
      "Epoch 21/30\n",
      "25/25 [==============================] - 0s 2ms/step - loss: 0.0165 - accuracy: 0.9937 - val_loss: 0.9662 - val_accuracy: 0.7200\n",
      "Epoch 22/30\n",
      "25/25 [==============================] - 0s 2ms/step - loss: 0.0144 - accuracy: 0.9962 - val_loss: 0.9699 - val_accuracy: 0.7250\n",
      "Epoch 23/30\n",
      "25/25 [==============================] - 0s 2ms/step - loss: 0.0140 - accuracy: 0.9962 - val_loss: 1.0076 - val_accuracy: 0.7250\n",
      "Epoch 24/30\n",
      "25/25 [==============================] - 0s 2ms/step - loss: 0.0151 - accuracy: 0.9962 - val_loss: 1.0009 - val_accuracy: 0.7350\n",
      "Epoch 25/30\n",
      "25/25 [==============================] - 0s 2ms/step - loss: 0.0105 - accuracy: 0.9962 - val_loss: 1.2274 - val_accuracy: 0.6850\n",
      "Epoch 26/30\n",
      "25/25 [==============================] - 0s 2ms/step - loss: 0.0102 - accuracy: 0.9975 - val_loss: 1.1718 - val_accuracy: 0.7000\n",
      "Epoch 27/30\n",
      "25/25 [==============================] - 0s 2ms/step - loss: 0.0108 - accuracy: 0.9975 - val_loss: 1.2634 - val_accuracy: 0.6750\n",
      "Epoch 28/30\n",
      "25/25 [==============================] - 0s 2ms/step - loss: 0.0095 - accuracy: 0.9987 - val_loss: 1.1528 - val_accuracy: 0.7050\n",
      "Epoch 29/30\n",
      "25/25 [==============================] - 0s 2ms/step - loss: 0.0136 - accuracy: 0.9950 - val_loss: 1.2804 - val_accuracy: 0.6700\n",
      "Epoch 30/30\n",
      "25/25 [==============================] - 0s 2ms/step - loss: 0.0094 - accuracy: 0.9975 - val_loss: 1.3626 - val_accuracy: 0.6700\n"
     ]
    }
   ],
   "source": [
    "# Modeling\n",
    "model = tf.keras.Sequential([\n",
    "    Embedding(2000, 20, input_length=20),\n",
    "    GlobalAveragePooling1D(),\n",
    "    Dense(64, activation='relu'),\n",
    "    Dense(32, activation='relu'),\n",
    "    Dense(1, activation='sigmoid')\n",
    "])\n",
    " \n",
    "# Compile model\n",
    "model.compile(optimizer='adam',\n",
    "              loss='binary_crossentropy',\n",
    "              metrics=['accuracy'])\n",
    " \n",
    "# Train model\n",
    "num_epochs = 30\n",
    "history = model.fit(train_padded, label_train,\n",
    "                    epochs=num_epochs,\n",
    "                    validation_data=(test_padded, label_test),\n",
    "                    verbose=1)"
   ]
  },
  {
   "cell_type": "code",
   "execution_count": 5,
   "metadata": {},
   "outputs": [
    {
     "name": "stderr",
     "output_type": "stream",
     "text": [
      "c:\\Users\\User\\AppData\\Local\\Programs\\Python\\Python311\\Lib\\site-packages\\keras\\src\\engine\\training.py:3000: UserWarning: You are saving your model as an HDF5 file via `model.save()`. This file format is considered legacy. We recommend using instead the native Keras format, e.g. `model.save('my_model.keras')`.\n",
      "  saving_api.save_model(\n"
     ]
    }
   ],
   "source": [
    "# saved model\n",
    "model.save(\"model.h5\")"
   ]
  }
 ],
 "metadata": {
  "kernelspec": {
   "display_name": "Python 3",
   "language": "python",
   "name": "python3"
  },
  "language_info": {
   "codemirror_mode": {
    "name": "ipython",
    "version": 3
   },
   "file_extension": ".py",
   "mimetype": "text/x-python",
   "name": "python",
   "nbconvert_exporter": "python",
   "pygments_lexer": "ipython3",
   "version": "3.11.0"
  },
  "orig_nbformat": 4
 },
 "nbformat": 4,
 "nbformat_minor": 2
}
